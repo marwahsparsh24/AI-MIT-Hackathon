{
  "cells": [
    {
      "cell_type": "markdown",
      "metadata": {
        "id": "view-in-github",
        "colab_type": "text"
      },
      "source": [
        "<a href=\"https://colab.research.google.com/github/marwahsparsh24/AI-MIT-Hackathon/blob/shivie/M6_Lab1_AI_Agents.ipynb\" target=\"_parent\"><img src=\"https://colab.research.google.com/assets/colab-badge.svg\" alt=\"Open In Colab\"/></a>"
      ]
    },
    {
      "cell_type": "markdown",
      "id": "5208c400",
      "metadata": {
        "id": "5208c400"
      },
      "source": [
        "<div style=\"background: linear-gradient(135deg, #001a70 0%, #0055d4 100%); color: white; padding: 20px; margin-bottom: 15px; text-align: center; border-radius: 10px;\">\n",
        "<h1 style=\"font-size: 28px; margin-bottom: 8px;\">LangChain: Agents and Chains</h1>\n",
        "<div style=\"background: white; color: #0055d4; padding: 4px 12px; border-radius: 10px; font-size: 13px; display: inline-block; margin-bottom: 8px;\">Prof. Dehghani</div>\n",
        "<p style=\"margin: 0; font-size: 14px;\">m.dehghani@northeastern.edu</p>\n",
        "</div>\n",
        "\n",
        "<div style=\"background: #f0f5ff; border-radius: 10px; padding: 15px; margin-bottom: 15px; border: 1px solid #0055d4;\">\n",
        "<h2 style=\"color: #0055d4; margin-top: 0; font-size: 20px; padding-bottom: 8px; border-bottom: 2px solid #0055d4;\">Lab Overview</h2>\n",
        "<p style=\"line-height: 1.6; font-size: 15px; margin-bottom: 10px;\">This lab focuses on automating multi-step reasoning and decision-making in LangChain using <strong>Chains & Agents</strong>. You'll learn how to connect multiple components, dynamically execute logic, and use LLMs to make decisions.</p>\n",
        "\n",
        "<div style=\"margin-top: 15px; padding-left: 15px; border-left: 4px solid #0055d4;\">\n",
        "<h3 style=\"color: #0055d4; font-size: 16px; margin-bottom: 10px;\">Learning Objectives</h3>\n",
        "<div style=\"background: white; border-radius: 8px; padding: 12px; margin-bottom: 8px; border: 1px solid #e0e0e0;\">\n",
        "<span style=\"color: #0055d4; font-weight: bold;\">1.</span> Chains in LangChain — Connect multiple LLM calls in a sequence\n",
        "</div>\n",
        "<div style=\"background: white; border-radius: 8px; padding: 12px; margin-bottom: 8px; border: 1px solid #e0e0e0;\">\n",
        "<span style=\"color: #0055d4; font-weight: bold;\">2.</span> Agents & Tools — Create AI-driven agents that reason & act dynamically\n",
        "</div>\n",
        "<div style=\"background: white; border-radius: 8px; padding: 12px; margin-bottom: 8px; border: 1px solid #e0e0e0;\">\n",
        "<span style=\"color: #0055d4; font-weight: bold;\">3.</span> Hands-on Implementation — Apply concepts through practical coding exercises\n",
        "</div>\n",
        "</div>\n",
        "\n",
        "<p style=\"margin-top: 12px; font-size: 14px; color: #666;\">Upon completion, you'll be equipped to build AI workflows using structured pipelines and autonomous decision-making.</p>\n",
        "</div>"
      ]
    },
    {
      "cell_type": "code",
      "execution_count": 1,
      "id": "e0f1adbd",
      "metadata": {
        "id": "e0f1adbd",
        "colab": {
          "base_uri": "https://localhost:8080/",
          "height": 0
        },
        "outputId": "a5516c23-3129-4921-df30-92fd163770f8"
      },
      "outputs": [
        {
          "output_type": "stream",
          "name": "stdout",
          "text": [
            "\u001b[2K   \u001b[90m━━━━━━━━━━━━━━━━━━━━━━━━━━━━━━━━━━━━━━━━\u001b[0m \u001b[32m2.5/2.5 MB\u001b[0m \u001b[31m28.4 MB/s\u001b[0m eta \u001b[36m0:00:00\u001b[0m\n",
            "\u001b[2K   \u001b[90m━━━━━━━━━━━━━━━━━━━━━━━━━━━━━━━━━━━━━━━━\u001b[0m \u001b[32m44.4/44.4 kB\u001b[0m \u001b[31m1.6 MB/s\u001b[0m eta \u001b[36m0:00:00\u001b[0m\n",
            "\u001b[2K   \u001b[90m━━━━━━━━━━━━━━━━━━━━━━━━━━━━━━━━━━━━━━━━\u001b[0m \u001b[32m50.9/50.9 kB\u001b[0m \u001b[31m1.8 MB/s\u001b[0m eta \u001b[36m0:00:00\u001b[0m\n",
            "\u001b[2K   \u001b[90m━━━━━━━━━━━━━━━━━━━━━━━━━━━━━━━━━━━━━━━━\u001b[0m \u001b[32m720.5/720.5 kB\u001b[0m \u001b[31m10.7 MB/s\u001b[0m eta \u001b[36m0:00:00\u001b[0m\n",
            "\u001b[2K   \u001b[90m━━━━━━━━━━━━━━━━━━━━━━━━━━━━━━━━━━━━━━━━\u001b[0m \u001b[32m63.4/63.4 kB\u001b[0m \u001b[31m1.9 MB/s\u001b[0m eta \u001b[36m0:00:00\u001b[0m\n",
            "\u001b[2K   \u001b[90m━━━━━━━━━━━━━━━━━━━━━━━━━━━━━━━━━━━━━━━━\u001b[0m \u001b[32m438.5/438.5 kB\u001b[0m \u001b[31m8.6 MB/s\u001b[0m eta \u001b[36m0:00:00\u001b[0m\n",
            "\u001b[?25h"
          ]
        }
      ],
      "source": [
        "# ⚙️ Installing Required Libraries (Quiet Mode)\n",
        "# ==================================================\n",
        "!pip install -q --upgrade langchain  # Core framework for LLMs\n",
        "!pip install -q --upgrade langchain-community  # Community LLMs, tools, memory, etc.\n",
        "!pip install -q --upgrade openai  # OpenAI API (always use latest unless you have a reason to pin)\n",
        "!pip install -q --upgrade langchain-openai # Install the OpenAI integration for LangChain"
      ]
    },
    {
      "cell_type": "code",
      "execution_count": 2,
      "id": "9f6983d2",
      "metadata": {
        "id": "9f6983d2",
        "colab": {
          "base_uri": "https://localhost:8080/",
          "height": 0
        },
        "outputId": "0a493730-a303-480b-9e93-69d2d9c7315a"
      },
      "outputs": [
        {
          "output_type": "stream",
          "name": "stdout",
          "text": [
            "✅ Essential libraries imported successfully!\n"
          ]
        }
      ],
      "source": [
        "# ==================================================\n",
        "# 🐍 Importing Essential Python Libraries for LangChain + OpenAI\n",
        "# ==================================================\n",
        "\n",
        "import os  # System: Manage environment variables (e.g., API keys)\n",
        "\n",
        "import ipywidgets as widgets  # Jupyter: For interactive input controls in notebooks\n",
        "from IPython.display import clear_output, display  # Jupyter: Output management and display tools\n",
        "\n",
        "from langchain_openai import ChatOpenAI  # LangChain: OpenAI chat model wrapper\n",
        "from langchain.memory import ConversationBufferMemory  # LangChain: Stores conversational history for chatbots\n",
        "from langchain.prompts import PromptTemplate  # LangChain: Create prompt templates for LLMs\n",
        "\n",
        "print(\"✅ Essential libraries imported successfully!\")\n"
      ]
    },
    {
      "cell_type": "code",
      "execution_count": 3,
      "id": "2d4e47a7",
      "metadata": {
        "id": "2d4e47a7",
        "colab": {
          "base_uri": "https://localhost:8080/",
          "height": 0
        },
        "outputId": "9aa140b8-08e6-4ba0-d4c2-6e1dfc6dee13"
      },
      "outputs": [
        {
          "output_type": "stream",
          "name": "stdout",
          "text": [
            "✅ OpenAI API Key loaded from secrets!\n"
          ]
        }
      ],
      "source": [
        "# ==================================================\n",
        "# 🔒 API Key Setup from Colab Secrets\n",
        "# ==================================================\n",
        "\n",
        "from google.colab import userdata  # Colab utility for accessing stored secrets\n",
        "import os  # For environment variables\n",
        "\n",
        "# Read API keys from Colab secrets (assumes you set them via: userdata.set_secret('OPENAI_API_KEY', '...'))\n",
        "openai_key = userdata.get('openAI_apikey')\n",
        "\n",
        "# Set as environment variables for downstream packages (LangChain, etc.)\n",
        "if openai_key:\n",
        "    os.environ[\"OPENAI_API_KEY\"] = openai_key\n",
        "    print(\"✅ OpenAI API Key loaded from secrets!\")\n",
        "else:\n",
        "    print(\"❌ OpenAI API Key not found in secrets.\")\n",
        "\n"
      ]
    },
    {
      "cell_type": "markdown",
      "source": [
        "<div style=\"margin-bottom: 25px; padding-left: 15px; border-left: 4px solid #0055d4;\">\n",
        "<h2 style=\"color: #0055d4; margin-top: 0; font-size: 24px; padding-bottom: 10px; border-bottom: 2px solid #e0e0e0;\">Understanding Chains in LangChain</h2>\n",
        "\n",
        "<p style=\"line-height: 1.6; font-size: 16px; color: #666;\">One of the core features of LangChain is its ability to <strong>create chains</strong>, allowing us to sequence multiple tasks together. Instead of manually handling each step, chains automate workflows by linking components such as prompts, LLMs, memory, and tools.</p>\n",
        "</div>\n",
        "\n",
        "<div style=\"background: #f8f9fa; border-radius: 10px; padding: 20px; margin-bottom: 20px;\">\n",
        "<h3 style=\"color: #0055d4; margin-top: 0; font-size: 18px; margin-bottom: 15px;\">Why Use Chains in LangChain?</h3>\n",
        "\n",
        "<div style=\"background: white; border-radius: 6px; padding: 12px; margin-bottom: 8px; border-left: 3px solid #0055d4;\">\n",
        "<strong style=\"color: #0055d4;\">Automate multi-step processes</strong> — No need to manually pass outputs between steps\n",
        "</div>\n",
        "\n",
        "<div style=\"background: white; border-radius: 6px; padding: 12px; margin-bottom: 8px; border-left: 3px solid #0055d4;\">\n",
        "<strong style=\"color: #0055d4;\">Create structured AI pipelines</strong> — Chain together LLMs, retrievers, memory, and tools\n",
        "</div>\n",
        "\n",
        "<div style=\"background: white; border-radius: 6px; padding: 12px; margin-bottom: 8px; border-left: 3px solid #0055d4;\">\n",
        "<strong style=\"color: #0055d4;\">Enable decision-making AI agents</strong> — Chains help LLMs interact with external tools to retrieve and process information dynamically\n",
        "</div>\n",
        "</div>\n",
        "\n",
        "<div style=\"margin-bottom: 25px; padding-left: 15px; border-left: 4px solid #0055d4;\">\n",
        "<h2 style=\"color: #0055d4; margin-top: 0; font-size: 22px; margin-bottom: 15px;\">Using the Pipe (|) Operator for Cleaner Chaining</h2>\n",
        "\n",
        "<p style=\"line-height: 1.6; font-size: 16px; color: #666; margin-bottom: 15px;\">LangChain provides a simplified way to create chains using the <strong>pipe (|) operator</strong>, which allows direct data flow between components.</p>\n",
        "\n",
        "<h3 style=\"color: #0055d4; font-size: 18px; margin-bottom: 10px;\">Example: Two Ways to Process Input with an LLM</h3>\n",
        "\n",
        "<div style=\"display: flex; gap: 10px; margin-bottom: 15px;\">\n",
        "<div style=\"flex: 1; background: #f0f5ff; padding: 12px; border-radius: 6px; border: 1px solid #e0e0e0;\">\n",
        "<strong style=\"color: #0055d4;\">Without Pipe (|)</strong><br>\n",
        "<span style=\"font-size: 14px; color: #666;\">Manually format the input, then pass it to the LLM</span>\n",
        "</div>\n",
        "\n",
        "<div style=\"flex: 1; background: #f0f5ff; padding: 12px; border-radius: 6px; border: 1px solid #e0e0e0;\">\n",
        "<strong style=\"color: #0055d4;\">With Pipe (|)</strong><br>\n",
        "<span style=\"font-size: 14px; color: #666;\">Directly chain them together for automatic execution</span>\n",
        "</div>\n",
        "</div>\n",
        "\n",
        "<p style=\"font-size: 15px; color: #666;\">Let's compare both approaches in the next code cells!</p>\n",
        "</div>"
      ],
      "metadata": {
        "id": "F7lwDEVbbG1v"
      },
      "id": "F7lwDEVbbG1v"
    },
    {
      "cell_type": "code",
      "source": [
        "# ==================================================\n",
        "# 🔹 **Comparing Two Methods: Manual Execution vs. Pipe (`|`) Operator**\n",
        "# ==================================================\n",
        "# This example demonstrates two ways to process an input with an LLM:\n",
        "#\n",
        "# 1️⃣ **Without Pipe (`|`)** → Manually format the prompt and pass it to the LLM.\n",
        "# 2️⃣ **With Pipe (`|`)** → Use LangChain’s `|` operator to create a streamlined sequence.\n",
        "#\n",
        "# Using the `|` operator allows for **cleaner, automatic execution**, reducing code complexity.\n",
        "\n",
        "# ✅ Define a prompt template with a World Cup theme\n",
        "prompt = PromptTemplate(\n",
        "    input_variables=[\"event\"],\n",
        "    template=\"\"\"\n",
        "    You are a legendary sports analyst with deep knowledge of World Cup history.\n",
        "    Fans eagerly await your expert take on the most iconic moments.\n",
        "\n",
        "    Analyze this legendary World Cup event in max ~20 simple words: {event}\n",
        "    \"\"\"\n",
        ")\n",
        "\n",
        "# ✅ Initialize the LLM (GPT-4)\n",
        "llm_ChatGPT = ChatOpenAI(model_name=\"gpt-4\", temperature=0.0)\n",
        "\n",
        "# ==================================================\n",
        "# ❌ Without Using the Pipe (`|`) - More Manual Steps\n",
        "# ==================================================\n",
        "# 1️⃣ Manually format the prompt\n",
        "formatted_prompt = prompt.format(event=\"Zidane's 2006 World Cup final red card\")\n",
        "\n",
        "# 2️⃣ Pass it to the LLM manually\n",
        "response_without_pipe = llm_ChatGPT.invoke(formatted_prompt)\n",
        "\n",
        "# ✅ Print the response (w/ emoji)\n",
        "print(\"🛠️❌ Manual (No Pipe) Response:\", response_without_pipe.content)\n",
        "\n",
        "# ==================================================\n",
        "# ✅ Using the Pipe (`|`) - Cleaner and Automatic Execution\n",
        "# ==================================================\n",
        "# 1️⃣ Directly chain the prompt and LLM together\n",
        "chain = prompt | llm_ChatGPT  # This creates a RunnableSequence\n",
        "\n",
        "# 2️⃣ Run the chain with an input in one step\n",
        "response_with_pipe = chain.invoke({\"event\": \"Zidane's 2006 World Cup final red card\"})\n",
        "\n",
        "# ✅ Print the response (w/ emoji)\n",
        "print(\"🚀✅ Pipe Operator Response:\", response_with_pipe.content)\n"
      ],
      "metadata": {
        "id": "qboSX5pObOmo",
        "colab": {
          "base_uri": "https://localhost:8080/",
          "height": 0
        },
        "outputId": "3fe76104-dd25-4a62-cb75-1b684c754994"
      },
      "id": "qboSX5pObOmo",
      "execution_count": 4,
      "outputs": [
        {
          "output_type": "stream",
          "name": "stdout",
          "text": [
            "🛠️❌ Manual (No Pipe) Response: Zidane's headbutt in 2006 final was shocking; a legendary player's career ended in controversy, costing France the World Cup.\n",
            "🚀✅ Pipe Operator Response: Zidane's headbutt in 2006 final was shocking; a legendary player's career ended in controversy, costing France the World Cup.\n"
          ]
        }
      ]
    },
    {
      "cell_type": "markdown",
      "source": [
        "### ✋ Hands-On: Single Prompt Chain"
      ],
      "metadata": {
        "id": "jS5bBlCKjE4H"
      },
      "id": "jS5bBlCKjE4H"
    },
    {
      "cell_type": "code",
      "source": [
        "# ==================================================\n",
        "# ✋ **Hands-On 1: Creating a Single Prompt Chain**\n",
        "# ==================================================\n",
        "\n",
        "# 📌 **Task Instructions:**\n",
        "# 1️⃣ Fill in the missing placeholders (-----) to complete the code.\n",
        "# 2️⃣ Ensure the Prompt Template correctly replaces {topic}.\n",
        "# 3️⃣ Run the code and verify GPT-4 generates a response.\n",
        "\n",
        "# ✅ Step 1: Import necessary modules\n",
        "from langchain.prompts import PromptTemplate # Import the correct class\n",
        "from langchain.chat_models import ChatOpenAI  # Import the correct class\n",
        "\n",
        "# ✅ Step 2: Define a Prompt Template\n",
        "prompt_template = PromptTemplate(\n",
        "    input_variables=[\"topic\"],  # Placeholder for dynamic input\n",
        "    template=\"Explain {topic} in simple terms using no more than 15 words.\"\n",
        ")\n",
        "\n",
        "# ✅ Step 3: Initialize GPT-4 model\n",
        "llm_ChatGPT = ChatOpenAI(model_name=\"gpt-4\")  # Load GPT-4 model\n",
        "\n",
        "# ✅ Step 4: Create a runnable chain using `|` (pipe operator)\n",
        "chain = prompt_template|llm_ChatGPT  # Use the correct operator to chain them\n",
        "\n",
        "# ✅ Step 5: Run the chain with a sample input\n",
        "response = chain.invoke({\"topic\": \"Collective Intelligence\"})\n",
        "\n",
        "# ✅ Step 6: Display results\n",
        "print(\"🔹 **Generated Prompt:**\", prompt_template.format(topic=\"Collective Intelligence\"))\n",
        "print(\"🔹 **LLM Response:**\", response.content)  # Extract and display response content\n"
      ],
      "metadata": {
        "id": "3WLVBwwAi6Iu",
        "colab": {
          "base_uri": "https://localhost:8080/",
          "height": 0
        },
        "outputId": "e33b6dc6-455b-4d2a-f7f7-f7e3c7ee672c"
      },
      "id": "3WLVBwwAi6Iu",
      "execution_count": 5,
      "outputs": [
        {
          "output_type": "stream",
          "name": "stderr",
          "text": [
            "<ipython-input-5-fe228c63b3ba>:21: LangChainDeprecationWarning: The class `ChatOpenAI` was deprecated in LangChain 0.0.10 and will be removed in 1.0. An updated version of the class exists in the :class:`~langchain-openai package and should be used instead. To use it run `pip install -U :class:`~langchain-openai` and import as `from :class:`~langchain_openai import ChatOpenAI``.\n",
            "  llm_ChatGPT = ChatOpenAI(model_name=\"gpt-4\")  # Load GPT-4 model\n"
          ]
        },
        {
          "output_type": "stream",
          "name": "stdout",
          "text": [
            "🔹 **Generated Prompt:** Explain Collective Intelligence in simple terms using no more than 15 words.\n",
            "🔹 **LLM Response:** Collective intelligence is when a group's combined knowledge and skills exceed individual abilities.\n"
          ]
        }
      ]
    },
    {
      "cell_type": "markdown",
      "source": [
        "<div style=\"margin-bottom: 25px; padding-left: 15px; border-left: 4px solid #0055d4;\">\n",
        "<h2 style=\"color: #0055d4; margin-top: 0; font-size: 24px; padding-bottom: 10px; border-bottom: 2px solid #e0e0e0;\">Multi-LLM Pipelines with Chaining</h2>\n",
        "\n",
        "<h3 style=\"color: #0055d4; font-size: 18px; margin: 20px 0 10px 0;\">What is Multi-LLM Chaining?</h3>\n",
        "<p style=\"line-height: 1.6; font-size: 16px; color: #666;\">Multi-LLM chaining is a method where <strong>multiple AI models</strong> collaborate in a step-by-step sequence to handle complex tasks efficiently. Instead of a single model doing everything, each AI is specialized for a specific function, ensuring better accuracy, efficiency, and interpretability.</p>\n",
        "</div>\n",
        "\n",
        "<div style=\"background: #f8f9fa; border-radius: 10px; padding: 20px; margin-bottom: 20px;\">\n",
        "<h3 style=\"color: #0055d4; margin-top: 0; font-size: 18px; margin-bottom: 15px;\">Key Benefits of Multi-LLM Chaining</h3>\n",
        "\n",
        "<div style=\"background: white; border-radius: 6px; padding: 12px; margin-bottom: 8px; border-left: 3px solid #0055d4;\">\n",
        "✓ <strong style=\"color: #0055d4;\">Task Specialization</strong> — Each model is optimized for a specific role, leading to higher accuracy\n",
        "</div>\n",
        "\n",
        "<div style=\"background: white; border-radius: 6px; padding: 12px; margin-bottom: 8px; border-left: 3px solid #0055d4;\">\n",
        "✓ <strong style=\"color: #0055d4;\">Improved Efficiency</strong> — Models focus on one task at a time, reducing processing load and response time\n",
        "</div>\n",
        "\n",
        "<div style=\"background: white; border-radius: 6px; padding: 12px; margin-bottom: 8px; border-left: 3px solid #0055d4;\">\n",
        "✓ <strong style=\"color: #0055d4;\">Scalability</strong> — Easily extendable by adding more AI models for deeper analysis\n",
        "</div>\n",
        "\n",
        "<div style=\"background: white; border-radius: 6px; padding: 12px; margin-bottom: 8px; border-left: 3px solid #0055d4;\">\n",
        "✓ <strong style=\"color: #0055d4;\">Transparency & Interpretability</strong> — Step-by-step outputs show AI reasoning, making results easier to trust\n",
        "</div>\n",
        "\n",
        "<div style=\"background: white; border-radius: 6px; padding: 12px; margin-bottom: 8px; border-left: 3px solid #0055d4;\">\n",
        "✓ <strong style=\"color: #0055d4;\">Error Reduction</strong> — If an early step detects errors, later models can correct them for a refined output\n",
        "</div>\n",
        "</div>\n",
        "\n",
        "<div style=\"margin-bottom: 20px;\">\n",
        "<h3 style=\"color: #0055d4; font-size: 18px; margin-bottom: 15px;\">Real-World Applications of Multi-LLM Chaining</h3>\n",
        "\n",
        "<div style=\"display: grid; grid-template-columns: 1fr 1fr; gap: 10px;\">\n",
        "<div style=\"background: #f0f5ff; padding: 12px; border-radius: 6px; border: 1px solid #e0e0e0;\">\n",
        "<strong style=\"color: #0055d4;\">Legal AI</strong><br>\n",
        "<span style=\"font-size: 14px; color: #666;\">One model extracts case details, another predicts legal outcomes</span>\n",
        "</div>\n",
        "\n",
        "<div style=\"background: #f0f5ff; padding: 12px; border-radius: 6px; border: 1px solid #e0e0e0;\">\n",
        "<strong style=\"color: #0055d4;\">Customer Support</strong><br>\n",
        "<span style=\"font-size: 14px; color: #666;\">One model classifies sentiment, another generates a response</span>\n",
        "</div>\n",
        "\n",
        "<div style=\"background: #f0f5ff; padding: 12px; border-radius: 6px; border: 1px solid #e0e0e0;\">\n",
        "<strong style=\"color: #0055d4;\">Content Writing</strong><br>\n",
        "<span style=\"font-size: 14px; color: #666;\">One model creates content, another summarizes or edits it</span>\n",
        "</div>\n",
        "\n",
        "<div style=\"background: #f0f5ff; padding: 12px; border-radius: 6px; border: 1px solid #e0e0e0;\">\n",
        "<strong style=\"color: #0055d4;\">Fake News Detection</strong><br>\n",
        "<span style=\"font-size: 14px; color: #666;\">One model extracts claims, another fact-checks them</span>\n",
        "</div>\n",
        "</div>\n",
        "\n",
        "<p style=\"margin-top: 15px; font-size: 15px; color: #666;\">By chaining specialized AI models, we can enhance AI reasoning, improve accuracy, and build more intelligent, structured workflows across different industries.</p>\n",
        "</div>\n",
        "\n",
        "<div style=\"background: #e8f5e9; border-radius: 10px; padding: 20px; margin-bottom: 20px; border: 1px solid #4caf50;\">\n",
        "<h3 style=\"color: #2e7d32; margin-top: 0; font-size: 18px; margin-bottom: 15px;\">Example: Medical Diagnosis Chain</h3>\n",
        "<p style=\"font-size: 15px; color: #2e7d32; margin-bottom: 15px;\">In a medical AI pipeline:</p>\n",
        "\n",
        "<div style=\"background: white; border-radius: 6px; padding: 12px; margin-bottom: 10px; border-left: 3px solid #4caf50;\">\n",
        "<strong style=\"color: #2e7d32;\">1. ChatGPT</strong> — Analyzes symptoms and suggests possible conditions\n",
        "</div>\n",
        "\n",
        "<div style=\"background: white; border-radius: 6px; padding: 12px; margin-bottom: 10px; border-left: 3px solid #4caf50;\">\n",
        "<strong style=\"color: #2e7d32;\">2. ChatGPT</strong> — Evaluates the list and selects the most likely condition with reasoning\n",
        "</div>\n",
        "\n",
        "<p style=\"margin-top: 15px; font-size: 14px; color: #666;\">This structured approach breaks down decision-making into logical steps, leading to more reliable outputs.</p>\n",
        "</div>"
      ],
      "metadata": {
        "id": "wvyg7LSSgrVi"
      },
      "id": "wvyg7LSSgrVi"
    },
    {
      "cell_type": "code",
      "source": [
        "# ✅ Step 1: Define the two LLMs\n",
        "\n",
        "# 🔹 LLM A – generates possible medical conditions\n",
        "llm_medical = ChatOpenAI(model_name=\"gpt-4-turbo\", temperature=0.0)\n",
        "\n",
        "# 🔹 LLM B – selects the best condition and adds a brief rationale\n",
        "#    (using the newer ‘gpt-4o’ release)\n",
        "llm_reasoning = ChatOpenAI(model_name=\"gpt-4o\", temperature=0.0)\n",
        "\n",
        "\n",
        "# ✅ Step 2: Create prompt templates\n",
        "\n",
        "prompt_medical = PromptTemplate(\n",
        "    input_variables=[\"symptoms\"],\n",
        "    template=\"\"\"\n",
        "You are an AI medical assistant. Based on the symptoms provided, suggest up to 3 possible conditions.\n",
        "\n",
        "Symptoms: {symptoms}\n",
        "\n",
        "Respond in a **comma-separated list** (e.g., \"Flu, COVID-19, Pneumonia\").\n",
        "\"\"\"\n",
        ")\n",
        "\n",
        "prompt_reasoning = PromptTemplate(\n",
        "    input_variables=[\"conditions\"],\n",
        "    template=\"\"\"\n",
        "You are an AI doctor. Based on the possible conditions listed, pick the **most probable** one and provide a **brief reason**.\n",
        "\n",
        "Possible conditions: {conditions}\n",
        "\n",
        "Respond with **only the best condition + reasoning in ≤2 sentences **.\n",
        "\"\"\"\n",
        ")\n",
        "\n",
        "\n",
        "# ✅ Step 3: Build the chain with the `|` operator\n",
        "#    1️⃣ Symptoms ➜ LLM A → list of conditions\n",
        "#    2️⃣ Lambda wraps that list into {\"conditions\": …}\n",
        "#    3️⃣ Formatted for LLM B → best condition + justification\n",
        "\n",
        "medical_chain = (\n",
        "    prompt_medical\n",
        "    | llm_medical\n",
        "    | (lambda x: {\"conditions\": x.content})\n",
        "    | prompt_reasoning\n",
        "    | llm_reasoning\n",
        ")\n"
      ],
      "metadata": {
        "id": "iIMmsdZFgxXZ"
      },
      "id": "iIMmsdZFgxXZ",
      "execution_count": 6,
      "outputs": []
    },
    {
      "cell_type": "code",
      "source": [
        "# 🔹 Test Case 1: Common Cold Symptoms\n",
        "symptoms_input = \"runny nose, sneezing, mild headache\"\n",
        "\n",
        "response = medical_chain.invoke({\"symptoms\": symptoms_input})\n",
        "\n",
        "print(\"🔍 Possible Conditions (GPT-4 Turbo):\", response.content)"
      ],
      "metadata": {
        "id": "MCeLejCTMqOz",
        "colab": {
          "base_uri": "https://localhost:8080/",
          "height": 0
        },
        "outputId": "f90ebf44-73ed-4937-bc19-4175a06cde77"
      },
      "id": "MCeLejCTMqOz",
      "execution_count": 7,
      "outputs": [
        {
          "output_type": "stream",
          "name": "stdout",
          "text": [
            "🔍 Possible Conditions (GPT-4 Turbo): Allergic rhinitis: Symptoms like sneezing, runny nose, and itchy eyes that occur seasonally or after exposure to allergens are most indicative of allergic rhinitis.\n"
          ]
        }
      ]
    },
    {
      "cell_type": "code",
      "source": [
        "# 🔹 Test Case 2: Severe Flu-like Symptoms\n",
        "symptoms_input = \"fever, chills, muscle pain, fatigue\"\n",
        "\n",
        "response = medical_chain.invoke({\"symptoms\": symptoms_input})\n",
        "\n",
        "print(\"🔍 Possible Conditions (GPT-4 Turbo):\", response.content)\n"
      ],
      "metadata": {
        "id": "sip86GtOMwdE",
        "colab": {
          "base_uri": "https://localhost:8080/",
          "height": 0
        },
        "outputId": "3b7c25d0-fe45-4752-b08a-0f7817ce489f"
      },
      "id": "sip86GtOMwdE",
      "execution_count": 8,
      "outputs": [
        {
          "output_type": "stream",
          "name": "stdout",
          "text": [
            "🔍 Possible Conditions (GPT-4 Turbo): COVID-19: If the patient presents with symptoms such as fever, cough, and loss of taste or smell, these are more specifically associated with COVID-19 compared to the other conditions.\n"
          ]
        }
      ]
    },
    {
      "cell_type": "code",
      "source": [
        "# 🔹 Test Case 3: Stomach-related Symptoms\n",
        "symptoms_input = \"nausea, vomiting, diarrhea, stomach cramps\"\n",
        "\n",
        "response = medical_chain.invoke({\"symptoms\": symptoms_input})\n",
        "\n",
        "print(\"🔍 Possible Conditions (GPT-4 Turbo):\", response.content)\n"
      ],
      "metadata": {
        "id": "wzJu_UAgMyyC",
        "colab": {
          "base_uri": "https://localhost:8080/",
          "height": 0
        },
        "outputId": "fe5eddea-fc1b-4ad2-cf9b-ebfc83fd4dcb"
      },
      "id": "wzJu_UAgMyyC",
      "execution_count": 9,
      "outputs": [
        {
          "output_type": "stream",
          "name": "stdout",
          "text": [
            "🔍 Possible Conditions (GPT-4 Turbo): Food poisoning: Sudden onset of symptoms such as nausea, vomiting, diarrhea, and abdominal pain shortly after consuming contaminated food is most indicative of food poisoning.\n"
          ]
        }
      ]
    },
    {
      "cell_type": "markdown",
      "source": [
        "## ✋ Hands-On Exercise: Customer Review Analysis & Automated Response"
      ],
      "metadata": {
        "id": "dMppSO10jOgf"
      },
      "id": "dMppSO10jOgf"
    },
    {
      "cell_type": "code",
      "source": [
        "# ==================================================\n",
        "# ✋ **Hands-On: Customer Review Sentiment & AI Response**\n",
        "# ==================================================\n",
        "# 📌 **Task Instructions:**\n",
        "# 1️⃣ Fill in the missing placeholders (`-----`) to complete the code.\n",
        "# 2️⃣ Ensure both Prompt Templates correctly embed {review} and {sentiment}.\n",
        "# 3️⃣ Run the code and verify the AI-generated sentiment & response.\n",
        "\n",
        "# ✅ Step 1: Import necessary modules\n",
        "\n",
        "# ✅ Step 2: Initialize two different LLMs\n",
        "llm_sentiment = ChatOpenAI(model_name=\"gpt-4-turbo\")  # GPT-4 Turbo for sentiment analysis\n",
        "llm_response = ChatOpenAI(model_name=\"gpt-4-1106-preview\")  # GPT-4-01 for response generation\n",
        "\n",
        "# ✅ Step 3: Define the first Prompt Template (Sentiment Analysis)\n",
        "sentiment_prompt = PromptTemplate(\n",
        "    input_variables=[\"review\"],  # Define the input variable for review input\n",
        "    template=\"\"\"\n",
        "    You are an AI assistant analyzing customer sentiment.\n",
        "\n",
        "    Review: {review}\n",
        "\n",
        "    Respond with either \"Positive\", \"Neutral\", or \"Negative\".\n",
        "    \"\"\"\n",
        ")\n",
        "\n",
        "# ✅ Step 4: Define the second Prompt Template (Automated Response)\n",
        "response_prompt = PromptTemplate(\n",
        "    input_variables=[\"sentiment\"],  # Define the input variable for sentiment classification\n",
        "    template=\"\"\"\n",
        "    You are an AI customer support agent. Based on the sentiment, generate a short, polite response.\n",
        "\n",
        "    Sentiment: {sentiment}\n",
        "\n",
        "    Response (≤ 15 words):\n",
        "    \"\"\"\n",
        ")\n",
        "\n",
        "# ✅ Step 5: Create Runnable Chains using the `|` operator\n",
        "sentiment_chain = sentiment_prompt | llm_sentiment  # Chain the sentiment prompt with GPT-4 Turbo\n",
        "response_chain = response_prompt | llm_response  # Chain the response prompt with GPT-4-01\n",
        "\n",
        "# ✅ Step 6: Run the pipeline\n",
        "\n",
        "# Step 6.1: Sample customer review input\n",
        "customer_review = \"The product is amazing! Great quality and fast delivery. Will buy again.\"\n",
        "\n",
        "# Step 6.2: Analyze sentiment using GPT-4 Turbo\n",
        "sentiment_result = sentiment_chain.invoke({\"review\": customer_review})  # Call the function to invoke the model\n",
        "\n",
        "# Step 6.3: Generate AI response using GPT-4-01\n",
        "response_text = response_chain.invoke({\"sentiment\": sentiment_result.content})  # Ensure correct content extraction\n",
        "\n",
        "# ✅ Step 7: Display results\n",
        "print(\"🔍 **Detected Sentiment:**\", sentiment_result.content)  # Extract response content\n",
        "print(\"\\n💬 **AI Response:**\", response_text.content)  # Extract AI-generated response\n",
        "\n",
        "#+++++++ Example Output +++++++#\n",
        "#🔍 **Detected Sentiment:** Positive\n",
        "#💬 **AI Response:** Thank you for your kind words! We’re glad you loved it! 😊\n"
      ],
      "metadata": {
        "id": "WV19WC9ujSna",
        "colab": {
          "base_uri": "https://localhost:8080/",
          "height": 0
        },
        "outputId": "be40363d-d2ae-44d8-9a3a-1610f9437d5e"
      },
      "id": "WV19WC9ujSna",
      "execution_count": 12,
      "outputs": [
        {
          "output_type": "stream",
          "name": "stdout",
          "text": [
            "🔍 **Detected Sentiment:** Positive\n",
            "\n",
            "💬 **AI Response:** I'm thrilled to hear that! How can I assist you further today?\n"
          ]
        }
      ]
    },
    {
      "cell_type": "markdown",
      "source": [
        "## ✋ Hands-On Exercise: Customer Review Analysis & Automated Response (Merged Chain)"
      ],
      "metadata": {
        "id": "szagChUdO841"
      },
      "id": "szagChUdO841"
    },
    {
      "cell_type": "code",
      "source": [
        "# ==================================================\n",
        "# ✋ **Hands-On: Merged Chain for Customer Review Sentiment & AI Response**\n",
        "# ==================================================\n",
        "# 📌 **Task Instructions:**\n",
        "# 1️⃣ Fill in the missing placeholders (`-----`) to complete the chain.\n",
        "# 2️⃣ Ensure sentiment analysis flows correctly into the response generation.\n",
        "# 3️⃣ Run the code and verify AI-generated responses.\n",
        "\n",
        "# ✅ The `PromptTemplate` and LLMs (`llm_sentiment` and `llm_response`) are already defined.\n",
        "\n",
        "# ✅ Step 5: Create a Single Runnable Chain (Merged Approach)\n",
        "full_chain = (\n",
        "    sentiment_prompt  # Step 1: Start with the sentiment prompt\n",
        "    | llm_sentiment  # Step 2: Pass it to the sentiment analysis LLM\n",
        "    | (lambda x: {\"sentiment\": x.content})  # Step 3: Extract sentiment result\n",
        "    | response_prompt  # Step 4: Format sentiment into response prompt\n",
        "    | llm_response  # Step 5: Pass it to the response generation LLM\n",
        ")\n",
        "\n",
        "# ✅ Step 6: Run the pipeline\n",
        "\n",
        "# Sample customer review input\n",
        "customer_review = \"The product is amazing! Great quality and fast delivery. Will buy again.\"\n",
        "\n",
        "# Run the full pipeline in one step\n",
        "response = full_chain.invoke({\"review\": customer_review})\n",
        "\n",
        "# ✅ Step 7: Display results\n",
        "print(\"💬 **AI Response:**\", response.content)  # Extract AI-generated response\n"
      ],
      "metadata": {
        "id": "RwRSZ76pO5JH",
        "colab": {
          "base_uri": "https://localhost:8080/",
          "height": 0
        },
        "outputId": "37a41b86-7117-4230-e5f3-4d810f8a7ae1"
      },
      "id": "RwRSZ76pO5JH",
      "execution_count": 13,
      "outputs": [
        {
          "output_type": "stream",
          "name": "stdout",
          "text": [
            "💬 **AI Response:** Thrilled to hear that! How can I further assist you today?\n"
          ]
        }
      ]
    },
    {
      "cell_type": "markdown",
      "source": [
        "# 🤖 AI Agents: Beyond Basic LLM Chaining  \n",
        "\n",
        "## 🔹 What are AI Agents?  \n",
        "Unlike simple LLM pipelines where models work in a **fixed sequence**, **AI agents** are **more flexible** and can **make decisions dynamically**. They can interact with **external tools, APIs, memory, and reasoning frameworks** to **adapt their responses** based on the situation.\n",
        "\n",
        "---\n",
        "\n",
        "## 🔍 **LLM Chaining vs. AI Agents**\n",
        "| Feature           | LLM Chaining                     | AI Agents                      |\n",
        "|------------------|--------------------------------|--------------------------------|\n",
        "| **Execution**    | Fixed sequence of steps        | Dynamic, adaptive behavior    |\n",
        "| **Decision-Making** | Follows predefined logic       | Can reason and choose actions |\n",
        "| **Interactivity** | Limited to internal logic      | Can use APIs, databases, tools |\n",
        "| **Memory**       | No long-term state             | Can remember previous actions |\n",
        "\n",
        "---\n",
        "\n",
        "## ✅ **Why Use AI Agents?**\n",
        "✔️ **Decision-Making** – Agents **select actions** dynamically instead of just following a script.  \n",
        "✔️ **Tool Integration** – Can access **APIs, databases, and external tools** like search engines or calculators.  \n",
        "✔️ **Memory** – Stores past interactions to **improve responses over time**.  \n",
        "✔️ **Multi-Step Reasoning** – Can **plan**, execute, and refine responses based on feedback.  \n",
        "\n",
        "---\n",
        "\n",
        "## 🚀 Real-World Applications of AI Agents\n",
        "🔹 **Customer Support AI:** Detects user needs, queries databases, and provides **real-time support**.  \n",
        "🔹 **Financial AI:** Analyzes market trends, retrieves **live stock prices**, and recommends investments.  \n",
        "🔹 **Research Assistants:** Searches the web, **extracts insights**, and summarizes articles.  \n",
        "🔹 **Automated Workflow Agents:** Interact with **multiple APIs** to execute complex business tasks.  \n",
        "\n",
        "---\n",
        "\n",
        "## ⚡ Next Steps: Building an AI Agent  \n",
        "Now, let’s **create an AI agent** that can **reason, interact with tools, and make decisions** dynamically! 🚀  \n"
      ],
      "metadata": {
        "id": "sYopzX5PSmNR"
      },
      "id": "sYopzX5PSmNR"
    },
    {
      "cell_type": "markdown",
      "source": [
        "# 🧮 Lab: Building a Math Solver Agent  \n",
        "\n",
        "In this lab, we create an **AI agent** that can solve **math problems dynamically** using a **calculator tool**. The agent **decides** whether to perform calculations itself or use external tools, showcasing **reasoning and tool integration** in LangChain.  \n",
        "\n",
        "The agent is executed using **`.run()`**, which allows it to process user queries and decide on actions dynamically.  \n",
        "\n",
        "---\n",
        "\n",
        "## 🔹 What is a Tool in LangChain?  \n",
        "A **tool** in LangChain is an **external function** that an agent can call to perform **specialized tasks** beyond just text generation. Tools help **extend AI capabilities**, allowing it to:  \n",
        "✔️ **Perform calculations** (e.g., a calculator tool)  \n",
        "✔️ **Query APIs** (e.g., fetch stock prices, weather updates)  \n",
        "✔️ **Search databases** (e.g., retrieve company records)  \n",
        "\n",
        "In this lab, we use a **calculator tool** to enable precise **math computation**, ensuring accurate results instead of relying solely on an LLM’s reasoning.  "
      ],
      "metadata": {
        "id": "s-JOOTTym4Iu"
      },
      "id": "s-JOOTTym4Iu"
    },
    {
      "cell_type": "code",
      "source": [
        "# ================================\n",
        "# 🏗️ Build the Math Solver Agent\n",
        "# ================================\n",
        "# ✅ This cell initializes the agent with a reasoning LLM and a calculator tool.\n",
        "\n",
        "from langchain.agents import initialize_agent, AgentType  # This is used to initialize an agent with a specific type\n",
        "from langchain.tools import Tool  # Tool class is used to define custom tools that the agent can use\n",
        "import operator  # Importing the operator module to perform mathematical and logical operations\n",
        "\n",
        "# ✅ Step 1: Define the LLM\n",
        "llm = ChatOpenAI(model_name=\"gpt-4-turbo\", temperature=0.0)\n",
        "\n",
        "import operator  # Importing the operator module for mathematical operations\n",
        "\n",
        "# ✅ Step 2: Create a Calculator Tool\n",
        "def calculator_tool(expression: str) -> str:\n",
        "    \"\"\"\n",
        "    Securely evaluates a mathematical expression and returns the computed result.\n",
        "\n",
        "    This function allows basic arithmetic operations while restricting access to\n",
        "    potentially dangerous built-in functions.\n",
        "\n",
        "    Supported operations:Addition (+), Subtraction (-), Multiplication (*)\n",
        "    - Division (/), Exponentiation (**), Floor Division (//), Modulus (%)\n",
        "\n",
        "    Parameters:\n",
        "    expression (str): A valid mathematical expression in string format\n",
        "                      (e.g., \"5 + 3\", \"10 * 2\", \"8 ** 2\").\n",
        "\n",
        "    Returns:\n",
        "    str: The computed result as a string, or an error message if the input is invalid.\n",
        "    \"\"\"\n",
        "    try:\n",
        "        # ✅ Securely evaluate the mathematical expression\n",
        "        # - `eval()` computes the arithmetic operation safely.\n",
        "        # - `{\"__builtins__\": {}}` removes access to all built-in functions, preventing security risks.\n",
        "        # - `operator.__dict__` limits the allowed operations to those defined in the operator module.\n",
        "        result = eval(expression, {\"__builtins__\": {}}, operator.__dict__)\n",
        "\n",
        "        # ✅ Convert the result to a string before returning it\n",
        "        return str(result)\n",
        "\n",
        "    except Exception as e:\n",
        "        # ✅ Handle errors gracefully, such as:\n",
        "        # - Invalid mathematical expressions (e.g., \"five plus three\" instead of \"5 + 3\")\n",
        "        # - Unsupported operations\n",
        "        # - Division by zero\n",
        "        return f\"Error: {str(e)}\"\n",
        "\n",
        "calculator = Tool(\n",
        "    name=\"Calculator\",\n",
        "    func=calculator_tool,\n",
        "    description=\"Use this tool to perform basic arithmetic calculations.\"\n",
        ")\n",
        "\n",
        "# ✅ Step 3: Initialize the Math Solver Agent\n",
        "math_solver_agent = initialize_agent(\n",
        "    tools=[calculator],\n",
        "    llm=llm,\n",
        "    agent=AgentType.ZERO_SHOT_REACT_DESCRIPTION,\n",
        "    verbose=True\n",
        ")\n"
      ],
      "metadata": {
        "id": "hlWQ9rtoSnLc",
        "colab": {
          "base_uri": "https://localhost:8080/",
          "height": 0
        },
        "outputId": "6e2853ab-536e-4d82-8b50-3a87063b5453"
      },
      "id": "hlWQ9rtoSnLc",
      "execution_count": 14,
      "outputs": [
        {
          "output_type": "stream",
          "name": "stderr",
          "text": [
            "<ipython-input-14-58b62b1a0412>:57: LangChainDeprecationWarning: LangChain agents will continue to be supported, but it is recommended for new use cases to be built with LangGraph. LangGraph offers a more flexible and full-featured framework for building agents, including support for tool-calling, persistence of state, and human-in-the-loop workflows. For details, refer to the `LangGraph documentation <https://langchain-ai.github.io/langgraph/>`_ as well as guides for `Migrating from AgentExecutor <https://python.langchain.com/docs/how_to/migrate_agent/>`_ and LangGraph's `Pre-built ReAct agent <https://langchain-ai.github.io/langgraph/how-tos/create-react-agent/>`_.\n",
            "  math_solver_agent = initialize_agent(\n"
          ]
        }
      ]
    },
    {
      "cell_type": "markdown",
      "source": [
        "# 🔹 Why Do We Need an LLM for the Math Solver Agent?  \n",
        "\n",
        "The **LLM** is essential for enabling **natural language understanding and reasoning** in the **Math Solver Agent**.  \n",
        "\n",
        "### **✅ Why Keep the LLM?**  \n",
        "✔ Interprets **human-like queries** (e.g., `\"Multiply 10 by 3\"` → `\"10 * 3\"`)  \n",
        "✔ Decides **when to use the calculator tool**  \n",
        "✔ Provides **error handling and explanations** in natural language  \n",
        "✔ Responds to **unsupported queries** instead of failing  \n",
        "\n",
        "### **❌ What Happens Without It?**  \n",
        "🔹 Only strict expressions (e.g., `\"5 + 3\"`) work, no **language understanding**  \n",
        "🔹 The tool **cannot reason** or decide how to handle a query  \n",
        "🔹 The agent **becomes a basic calculator**, losing flexibility  \n",
        "\n",
        "🚀Using the LLM makes the agent **more intelligent, flexible, and user-friendly** beyond just executing math operations.  \n"
      ],
      "metadata": {
        "id": "gaySwvBeiTlY"
      },
      "id": "gaySwvBeiTlY"
    },
    {
      "cell_type": "code",
      "source": [
        "# ================================\n",
        "# 🧪 Test the Math Solver Agent\n",
        "# ================================\n",
        "# ✅ This cell runs the agent with different math problems.\n",
        "\n",
        "# 🔹 Test Cases (Increasing Difficulty):\n",
        "test_cases = [\n",
        "    \"What is 42 * (8 + 3)?\",  # Simple arithmetic\n",
        "    \"Solve for x: 3x + 5 = 20.\",  # Equation solving\n",
        "    \"Integrate (3x^2 + 2x - 5) dx.\",  # Advanced calculus (integration)\n",
        "]\n",
        "\n",
        "# 🔹 Run the agent on each test case one by one\n",
        "for query in test_cases:\n",
        "    response = math_solver_agent.invoke(query)\n",
        "    print(f\"🧮 Query: {query}\")\n",
        "    print(f\"📢 Response: {response}\\n\")\n"
      ],
      "metadata": {
        "id": "hOe8c9LemiCs",
        "colab": {
          "base_uri": "https://localhost:8080/",
          "height": 0
        },
        "outputId": "105f6325-1703-46aa-c42d-02292b3611fc"
      },
      "id": "hOe8c9LemiCs",
      "execution_count": 15,
      "outputs": [
        {
          "output_type": "stream",
          "name": "stdout",
          "text": [
            "\n",
            "\n",
            "\u001b[1m> Entering new AgentExecutor chain...\u001b[0m\n",
            "\u001b[32;1m\u001b[1;3mTo solve the expression 42 * (8 + 3), I need to first calculate the sum inside the parentheses and then multiply the result by 42.\n",
            "\n",
            "Action: Calculator\n",
            "Action Input: 8 + 3\u001b[0m\n",
            "Observation: \u001b[36;1m\u001b[1;3m11\u001b[0m\n",
            "Thought:\u001b[32;1m\u001b[1;3mNow that I have the sum of 8 + 3, which is 11, I need to multiply this result by 42 to get the final answer.\n",
            "\n",
            "Action: Calculator\n",
            "Action Input: 42 * 11\u001b[0m\n",
            "Observation: \u001b[36;1m\u001b[1;3m462\u001b[0m\n",
            "Thought:\u001b[32;1m\u001b[1;3mI now know the final answer.\n",
            "Final Answer: 462\u001b[0m\n",
            "\n",
            "\u001b[1m> Finished chain.\u001b[0m\n",
            "🧮 Query: What is 42 * (8 + 3)?\n",
            "📢 Response: {'input': 'What is 42 * (8 + 3)?', 'output': '462'}\n",
            "\n",
            "\n",
            "\n",
            "\u001b[1m> Entering new AgentExecutor chain...\u001b[0m\n",
            "\u001b[32;1m\u001b[1;3mTo solve for x in the equation 3x + 5 = 20, I need to isolate x on one side of the equation.\n",
            "\n",
            "Action: Calculator\n",
            "Action Input: (20 - 5) / 3\u001b[0m\n",
            "Observation: \u001b[36;1m\u001b[1;3m5.0\u001b[0m\n",
            "Thought:\u001b[32;1m\u001b[1;3mI now know the final answer.\n",
            "\n",
            "Final Answer: x = 5.0\u001b[0m\n",
            "\n",
            "\u001b[1m> Finished chain.\u001b[0m\n",
            "🧮 Query: Solve for x: 3x + 5 = 20.\n",
            "📢 Response: {'input': 'Solve for x: 3x + 5 = 20.', 'output': 'x = 5.0'}\n",
            "\n",
            "\n",
            "\n",
            "\u001b[1m> Entering new AgentExecutor chain...\u001b[0m\n",
            "\u001b[32;1m\u001b[1;3mThought: The task is to integrate a polynomial function. Integration of a polynomial involves increasing the power of each term by one and dividing by the new power, and the constant term becomes a linear term with the variable x.\n",
            "\n",
            "Action: None needed\n",
            "Action Input: None\u001b[0m\n",
            "Observation: None needed is not a valid tool, try one of [Calculator].\n",
            "Thought:\u001b[32;1m\u001b[1;3mThought: To integrate the polynomial \\(3x^2 + 2x - 5\\), I will apply the basic rules of integration to each term separately. The integral of \\(ax^n\\) is \\(\\frac{a}{n+1}x^{n+1}\\) plus a constant of integration.\n",
            "\n",
            "Action: None needed\n",
            "Action Input: None\u001b[0m\n",
            "Observation: None needed is not a valid tool, try one of [Calculator].\n",
            "Thought:\u001b[32;1m\u001b[1;3mTo integrate the polynomial \\(3x^2 + 2x - 5\\), I will apply the basic rules of integration to each term separately. The integral of \\(ax^n\\) is \\(\\frac{a}{n+1}x^{n+1}\\) plus a constant of integration.\n",
            "\n",
            "- For \\(3x^2\\), increase the power by 1 to get \\(x^3\\) and divide by the new power, 3. This gives \\(\\frac{3}{3}x^3 = x^3\\).\n",
            "- For \\(2x\\), increase the power by 1 to get \\(x^2\\) and divide by the new power, 2. This gives \\(\\frac{2}{2}x^2 = x^2\\).\n",
            "- For \\(-5\\), the integral of a constant is the constant times the variable, so \\(-5x\\).\n",
            "\n",
            "Adding these together, the integrated function is \\(x^3 + x^2 - 5x + C\\), where \\(C\\) is the constant of integration.\n",
            "\n",
            "Thought: I now know the final answer.\n",
            "Final Answer: \\(x^3 + x^2 - 5x + C\\)\u001b[0m\n",
            "\n",
            "\u001b[1m> Finished chain.\u001b[0m\n",
            "🧮 Query: Integrate (3x^2 + 2x - 5) dx.\n",
            "📢 Response: {'input': 'Integrate (3x^2 + 2x - 5) dx.', 'output': '\\\\(x^3 + x^2 - 5x + C\\\\)'}\n",
            "\n"
          ]
        }
      ]
    },
    {
      "cell_type": "markdown",
      "source": [
        "## 💡 Did You Realize? Your Agent is Smarter Than You Think!\n",
        "\n",
        "### ❓ Why does the Math Solver Agent understand `\"Multiply 10 by 3\"` even though there is no prompt?  \n",
        "✅ The agent uses **`ZERO_SHOT_REACT_DESCRIPTION`**, which **automatically prompts the LLM** behind the scenes.  \n",
        "\n",
        "### ❓ How does the LLM convert `\"Multiply 10 by 3\"` into `\"10 * 3\"`?  \n",
        "✅ LangChain **asks the LLM to interpret the query** and map words to mathematical symbols before calling the calculator tool.  \n",
        "\n",
        "### ❓ What happens if we remove the LLM?  \n",
        "✅ The agent **won’t understand** `\"Multiply 10 by 3\"`, and only exact expressions like `\"10 * 3\"` will work.  \n",
        "\n",
        "### ❓ Does the definition of a tool get passed to the LLM?  \n",
        "✅ Yes! The agent **passes the tool’s description** to the LLM so it knows when and how to use it.  \n",
        "\n",
        "### ❓ Can an agent have multiple tools?  \n",
        "✅ Yes! An agent can use **multiple tools**, and the LLM will decide which one to call based on the query."
      ],
      "metadata": {
        "id": "UXqFE7nxjjlY"
      },
      "id": "UXqFE7nxjjlY"
    },
    {
      "cell_type": "code",
      "source": [
        "# ================================\n",
        "# ✋ Hands-On: Build a Unit Conversion Agent\n",
        "# ================================\n",
        "# 📌 **Task Instructions:**\n",
        "# 1️⃣ Fill in the missing placeholders (`-----`) to complete the code.\n",
        "# 2️⃣ Ensure the tool and agent are correctly initialized.\n",
        "# 3️⃣ Test the agent by providing a conversion query.\n",
        "\n",
        "from langchain.agents import initialize_agent, AgentType  # For agent initialization\n",
        "from langchain.tools import Tool  # Tool class to define custom tools for the agent\n",
        "\n",
        "# ================================\n",
        "# ✅ Step 1: Define the LLM\n",
        "# ================================\n",
        "# 🔹 Fill in the placeholder to define the LLM\n",
        "llm = ChatOpenAI(model_name=\"gpt-4-turbo\", temperature=0.0)\n",
        "\n",
        "# ================================\n",
        "# ✅ Step 2: Create a Unit Conversion Tool\n",
        "# ================================\n",
        "def unit_conversion_tool(query: str) -> str:\n",
        "    \"\"\"\n",
        "    Handles unit conversions for basic metrics like length, weight, and temperature.\n",
        "\n",
        "    Supported conversions:\n",
        "    - Miles to Kilometers\n",
        "    - Kilograms to Pounds\n",
        "    - Celsius to Fahrenheit\n",
        "\n",
        "    The function extracts the numerical value from the query string, performs the\n",
        "    specified conversion, and returns the result as a formatted string.\n",
        "\n",
        "    Returns:\n",
        "    str: The conversion result or an error message if the query is unsupported or invalid.\n",
        "    \"\"\"\n",
        "    try:\n",
        "        if \"miles to kilometers\" in query.lower():\n",
        "            miles = float(query.split()[0])\n",
        "            return f\"{miles} miles is {miles * 1.60934:.2f} kilometers.\"\n",
        "        elif \"kilograms to pounds\" in query.lower():\n",
        "            kg = float(query.split()[0])\n",
        "            return f\"{kg} kilograms is {kg * 2.20462:.2f} pounds.\"\n",
        "        elif \"celsius to fahrenheit\" in query.lower():\n",
        "            celsius = float(query.split()[0])\n",
        "            return f\"{celsius}°C is {celsius * 9/5 + 32:.2f}°F.\"\n",
        "        else:\n",
        "            return (\n",
        "                \"Unsupported conversion. Supported conversions:\\n\"\n",
        "                \"- Miles to Kilometers\\n\"\n",
        "                \"- Kilograms to Pounds\\n\"\n",
        "                \"- Celsius to Fahrenheit\"\n",
        "            )\n",
        "    except Exception as e:\n",
        "        return f\"Error: Unable to process the query. Details: {str(e)}\"\n",
        "\n",
        "\n",
        "# 🔹 Fill in the placeholder to define the tool\n",
        "unit_converter = Tool(\n",
        "    name=\"Unit Converter\",\n",
        "    func=unit_conversion_tool,  # Function to handle unit conversions\n",
        "    description=\"Use this tool to convert units like miles to kilometers, kilograms to pounds, and Celsius to Fahrenheit.\"\n",
        ")\n",
        "\n",
        "# ================================\n",
        "# ✅ Step 3: Initialize the Unit Conversion Agent\n",
        "# ================================\n",
        "# 🔹 Fill in the placeholder to initialize the agent\n",
        "unit_conversion_agent = initialize_agent(\n",
        "    tools=[unit_converter],  # Tool for unit conversion\n",
        "    llm=llm,\n",
        "    agent=AgentType.ZERO_SHOT_REACT_DESCRIPTION,\n",
        "    verbose=True\n",
        ")\n",
        "\n",
        "# ================================\n",
        "# ✅ Step 4: Test the Unit Conversion Agent\n",
        "# ================================\n",
        "# 🔹 Example query for conversion\n",
        "query = \"5 miles to kilometers\"\n",
        "\n",
        "# 🔹 Run the agent with the query\n",
        "response = unit_conversion_agent.run(query)\n",
        "\n",
        "# 🔹 Print the response\n",
        "print(\"🔄 Unit Conversion Agent Response:\\n\", response)"
      ],
      "metadata": {
        "id": "P_YFRx0LxisN",
        "colab": {
          "base_uri": "https://localhost:8080/",
          "height": 0
        },
        "outputId": "a76d8b6f-d3ef-4e64-dac1-8ee56dcead43"
      },
      "id": "P_YFRx0LxisN",
      "execution_count": 16,
      "outputs": [
        {
          "output_type": "stream",
          "name": "stderr",
          "text": [
            "<ipython-input-16-5fe14a8f92a8>:82: LangChainDeprecationWarning: The method `Chain.run` was deprecated in langchain 0.1.0 and will be removed in 1.0. Use :meth:`~invoke` instead.\n",
            "  response = unit_conversion_agent.run(query)\n"
          ]
        },
        {
          "output_type": "stream",
          "name": "stdout",
          "text": [
            "\n",
            "\n",
            "\u001b[1m> Entering new AgentExecutor chain...\u001b[0m\n",
            "\u001b[32;1m\u001b[1;3mI need to convert miles to kilometers.\n",
            "\n",
            "Action: Unit Converter\n",
            "Action Input: \"5 miles to kilometers\"\u001b[0m\n",
            "Observation: \u001b[36;1m\u001b[1;3m5.0 miles is 8.05 kilometers.\u001b[0m\n",
            "Thought:\u001b[32;1m\u001b[1;3mI now know the final answer.\n",
            "Final Answer: 5 miles is approximately 8.05 kilometers.\u001b[0m\n",
            "\n",
            "\u001b[1m> Finished chain.\u001b[0m\n",
            "🔄 Unit Conversion Agent Response:\n",
            " 5 miles is approximately 8.05 kilometers.\n"
          ]
        }
      ]
    },
    {
      "cell_type": "markdown",
      "source": [
        "<!-- 📊 MarketMaster Agent Overview -->\n",
        "\n",
        "<h2 style=\"color: #2c3e50;\">📊 MarketMaster Agent: Smart Stock Analytics & Advice</h2>\n",
        "\n",
        "<hr>\n",
        "\n",
        "<p>\n",
        "This AI-powered agent analyzes <strong>AAPL (Apple Inc.) stock data</strong> using modern LangChain agents with OpenAI's GPT-4. It supports reasoning, tool invocation, and investment insight generation.\n",
        "</p>\n",
        "\n",
        "---\n",
        "\n",
        "### 🔧 Features\n",
        "\n",
        "<ul>\n",
        "  <li><strong>📈 Moving Average Calculator:</strong> Computes short-term stock trends (e.g., 7-day moving average).</li>\n",
        "  <li><strong>💡 Investment Advisor:</strong> Uses price movements to suggest <em>buy, sell, or hold</em> decisions.</li>\n",
        "  <li><strong>🧠 LangChain ReAct Agent:</strong> Chooses which tool to use, executes it, and delivers a final answer.</li>\n",
        "</ul>\n",
        "\n",
        "---\n",
        "\n",
        "### ⚙️ How It Works\n",
        "\n",
        "<ol>\n",
        "  <li>Historical AAPL data is loaded via a Dropbox CSV link.</li>\n",
        "  <li>Two tools are registered using LangChain's <code>Tool</code> class:\n",
        "    <ul>\n",
        "      <li><strong>Moving Average Tool</strong>: Parses user input and calculates the average price over N days.</li>\n",
        "      <li><strong>Investment Advice Tool</strong>: Analyzes latest price delta and invokes the LLM to generate advice.</li>\n",
        "    </ul>\n",
        "  </li>\n",
        "  <li>An <strong>LLM-based ReAct Agent</strong> reasons through each query and chooses the appropriate tool.</li>\n",
        "</ol>\n",
        "\n",
        "---\n",
        "\n",
        "### 📌 Example Queries\n",
        "\n",
        "```python\n",
        "\"Calculate the 7-day moving average for AAPL.\"\n",
        "\"Should I invest in AAPL?\"\n",
        "\"What is the square root of 16?\"\n"
      ],
      "metadata": {
        "id": "BaXtG9OwxsTp"
      },
      "id": "BaXtG9OwxsTp"
    },
    {
      "cell_type": "code",
      "source": [
        "# ========================\n",
        "# 📦 Imports: Libraries & LangChain Components\n",
        "# ========================\n",
        "import pandas as pd\n",
        "from langchain.agents import create_react_agent, AgentExecutor\n",
        "from langchain_openai import ChatOpenAI\n",
        "from langchain_core.tools import Tool\n",
        "from langchain.prompts import PromptTemplate\n",
        "\n",
        "# ====================================================\n",
        "# 📊 MarketMaster Agent: Smart Stock Analytics & Advice\n",
        "# ====================================================\n",
        "# ✅ Powered by: OpenAI GPT-4 + LangChain's ReAct Agent (Modern)\n",
        "# ----------------------------------------------------\n",
        "# - Calculates Moving Averages from Historical AAPL Data\n",
        "# - Provides AI-Generated Buy/Sell/Hold Investment Advice\n",
        "# - Uses ReAct Agent for Reasoning + Tool Calling\n",
        "\n",
        "# ========================\n",
        "# 📥 Load Stock Data (AAPL)\n",
        "# ========================\n",
        "csv_url = \"https://www.dropbox.com/scl/fi/ysqxvj39gx2bkl4husg3y/HistoricalData_1739205046441.csv?rlkey=36q4rjpvvmwt9fyf3fftxwvb3&dl=1\"\n",
        "stock_data = pd.read_csv(csv_url)\n",
        "# Process and clean up the Close/Last column for numeric calculation\n",
        "stock_data['Close/Last'] = stock_data['Close/Last'].str.replace('$', '').astype(float)\n",
        "\n",
        "# ========================\n",
        "# 🧠 Define LLMs for Reasoning & Advice\n",
        "# ========================\n",
        "llm_analysis = ChatOpenAI(model=\"gpt-4-turbo\", temperature=0.0)     # For reasoning about which tools to use\n",
        "llm_investment = ChatOpenAI(model=\"gpt-4-turbo\", temperature=0.0)   # For concise investment advice\n",
        "\n",
        "# ========================\n",
        "# 🛠️ Tool 1: Moving Average Calculator\n",
        "# ========================\n",
        "# This tool parses a user's query to extract a time window (e.g., \"7-day\")\n",
        "# and calculates the moving average of AAPL for that period.\n",
        "def calculate_moving_average(query: str) -> str:\n",
        "    try:\n",
        "        words = query.lower().split()\n",
        "        for word in words:\n",
        "            if \"day\" in word:\n",
        "                days_str = \"\".join(filter(str.isdigit, word))\n",
        "                if days_str:\n",
        "                    days = int(days_str)\n",
        "                    break\n",
        "        else:\n",
        "            # If no \"day\" found, try to interpret the whole query as a number of days\n",
        "            try:\n",
        "                days = int(query.strip())\n",
        "            except ValueError:\n",
        "                return \"Error: Could not determine the number of days for the moving average.\"\n",
        "\n",
        "        if len(stock_data) < days:\n",
        "            return f\"Error: Not enough data to calculate a {days}-day moving average. Available data points: {len(stock_data)}\"\n",
        "        if days <= 0:\n",
        "            return \"Error: Number of days must be positive.\"\n",
        "\n",
        "        moving_avg = stock_data['Close/Last'].tail(days).mean()\n",
        "        return f\"The {days}-day moving average for AAPL is ${moving_avg:.2f}.\"\n",
        "\n",
        "    except Exception as e:\n",
        "        return f\"Error in calculate_moving_average: {str(e)}\"\n",
        "\n",
        "moving_avg_tool = Tool(\n",
        "    name=\"Moving Average Calculator\",\n",
        "    func=calculate_moving_average,\n",
        "    description=\"Calculates the moving average for the last N days based on AAPL closing prices. Input should be a number or a phrase like '7-day'.\"\n",
        ")\n",
        "\n",
        "# ========================\n",
        "# 🛠️ Tool 2: Investment Advice Generator\n",
        "# ========================\n",
        "# This tool uses recent AAPL price movement to suggest a \"buy\", \"sell\", or \"hold\" action.\n",
        "def generate_investment_advice(query: str) -> str:\n",
        "    try:\n",
        "        # Ensure there are at least two data points to calculate change\n",
        "        if len(stock_data) < 2:\n",
        "            return \"Error: Not enough data to generate investment advice.\"\n",
        "\n",
        "        latest_entry = stock_data.iloc[-1]\n",
        "        previous_entry = stock_data.iloc[-2]\n",
        "        price_change = latest_entry['Close/Last'] - previous_entry['Close/Last']\n",
        "        # Calculate percent change, avoid division by zero\n",
        "        price_change_percent = (price_change / previous_entry['Close/Last']) * 100 if previous_entry['Close/Last'] != 0 else 0\n",
        "        trend = \"upward 📈\" if price_change > 0 else (\"downward 📉\" if price_change < 0 else \"stable\")\n",
        "\n",
        "        # Use a prompt template to provide structured data to the LLM\n",
        "        advice_prompt_template = PromptTemplate.from_template(\n",
        "            \"\"\"\n",
        "            Analyze the following AAPL stock data and provide a brief investment recommendation (buy, sell, or hold) based *only* on this data.\n",
        "\n",
        "            AAPL Stock Data:\n",
        "            - Latest Close Price: {latest_price}\n",
        "            - Price Change (vs previous day): {price_change:.2f} ({price_change_percent:.2f}%)\n",
        "            - Short-term Trend (based on price change): {trend}\n",
        "\n",
        "            Investment Recommendation (buy, sell, or hold, max 15 words):\n",
        "            \"\"\"\n",
        "        )\n",
        "        advice_prompt = advice_prompt_template.format(\n",
        "            latest_price=latest_entry['Close/Last'],\n",
        "            price_change=price_change,\n",
        "            price_change_percent=price_change_percent,\n",
        "            trend=trend\n",
        "        )\n",
        "\n",
        "        return llm_investment.invoke(advice_prompt).content\n",
        "\n",
        "    except Exception as e:\n",
        "        return f\"Error in generate_investment_advice: {str(e)}\"\n",
        "\n",
        "investment_tool = Tool(\n",
        "    name=\"Investment Advice Generator\",\n",
        "    func=generate_investment_advice,\n",
        "    description=\"Analyzes AAPL's latest trend and provides a brief buy/sell/hold investment advice. Use when asked for investment advice.\"\n",
        ")\n",
        "\n",
        "# ========================\n",
        "# 🤖 Agent Initialization (Modern API)\n",
        "# ========================\n",
        "\n",
        "# Prepare a custom prompt template for the ReAct agent style (Reason+Act).\n",
        "# The prompt gives the agent step-by-step instructions and defines the output structure.\n",
        "agent_prompt = PromptTemplate.from_template(\n",
        "    \"\"\"\n",
        "    You are MarketMaster, a smart stock analysis assistant.\n",
        "    You have access to the following tools:\n",
        "\n",
        "    {tools}\n",
        "\n",
        "    Use the tools provided to answer questions about AAPL stock trends and give investment advice.\n",
        "    The user will give you a question about AAPL stock.\n",
        "\n",
        "    Follow this format:\n",
        "\n",
        "    Question: the input question you must answer\n",
        "    Thought: you should always think about what to do\n",
        "    Action: the action to take, should be one of [{tool_names}]\n",
        "    Action Input: the input to the action\n",
        "    Observation: the result of the action\n",
        "    ... (this Thought/Action/Action Input/Observation can repeat N times)\n",
        "    Thought: I now know the final answer\n",
        "    Final Answer: the final answer to the original input question\n",
        "\n",
        "    Begin!\n",
        "\n",
        "    Question: {input}\n",
        "    Thought:{agent_scratchpad}\n",
        "    \"\"\"\n",
        ")\n",
        "\n",
        "# 🧠 Create the agent: This agent will reason through the prompt and decide which tool to use.\n",
        "agent = create_react_agent(\n",
        "    llm=llm_analysis,\n",
        "    tools=[moving_avg_tool, investment_tool],\n",
        "    prompt=agent_prompt\n",
        ")\n",
        "\n",
        "# 🚦 AgentExecutor: The main controller that manages the agent's workflow.\n",
        "# It receives the user's query, lets the agent choose tools/actions step by step,\n",
        "# executes them, tracks intermediate reasoning (\"Thoughts\" and \"Actions\"),\n",
        "# and finally returns a complete answer.\n",
        "marketmaster_agent = AgentExecutor(\n",
        "    agent=agent,\n",
        "    tools=[moving_avg_tool, investment_tool],\n",
        "    verbose=True,                # Show intermediate reasoning steps for transparency/debugging\n",
        "    handle_parsing_errors=True   # Make execution more robust to unexpected agent outputs\n",
        ")\n"
      ],
      "metadata": {
        "id": "-VXDJT4zoSSD"
      },
      "id": "-VXDJT4zoSSD",
      "execution_count": 18,
      "outputs": []
    },
    {
      "cell_type": "code",
      "source": [
        "# ========================\n",
        "# 🚀 Run Example Queries\n",
        "# ========================\n",
        "query1 = \"Calculate the 7-day moving average for AAPL.\"\n",
        "query2 = \"Should I invest in AAPL?\"\n",
        "query3 = \"What is the square root of 16?\" # Example of a query the agent can't handle with its tools\n",
        "\n",
        "test_queries = [query1, query2, query3]\n",
        "\n",
        "for query in test_queries:\n",
        "    print(f\"--- Processing Query: {query} ---\")\n",
        "    try:\n",
        "        response = marketmaster_agent.invoke({\"input\": query})\n",
        "        print(f\"📢 Response for '{query}': {response['output']}\\n\")\n",
        "    except Exception as e:\n",
        "        print(f\"❌ An error occurred while processing '{query}': {e}\\n\")"
      ],
      "metadata": {
        "id": "yB7a2dfiUpHc",
        "colab": {
          "base_uri": "https://localhost:8080/",
          "height": 0
        },
        "outputId": "f8426851-6163-4fd4-c305-ea4db432aa47"
      },
      "id": "yB7a2dfiUpHc",
      "execution_count": 19,
      "outputs": [
        {
          "output_type": "stream",
          "name": "stdout",
          "text": [
            "--- Processing Query: Calculate the 7-day moving average for AAPL. ---\n",
            "\n",
            "\n",
            "\u001b[1m> Entering new AgentExecutor chain...\u001b[0m\n",
            "\u001b[32;1m\u001b[1;3mTo provide the requested 7-day moving average for AAPL, I will use the Moving Average Calculator tool.\n",
            "\n",
            "Action: Moving Average Calculator\n",
            "Action Input: 7-day\u001b[0m\u001b[36;1m\u001b[1;3mThe 7-day moving average for AAPL is $231.90.\u001b[0m\u001b[32;1m\u001b[1;3mI now know the final answer.\n",
            "Final Answer: The 7-day moving average for AAPL is $231.90.\u001b[0m\n",
            "\n",
            "\u001b[1m> Finished chain.\u001b[0m\n",
            "📢 Response for 'Calculate the 7-day moving average for AAPL.': The 7-day moving average for AAPL is $231.90.\n",
            "\n",
            "--- Processing Query: Should I invest in AAPL? ---\n",
            "\n",
            "\n",
            "\u001b[1m> Entering new AgentExecutor chain...\u001b[0m\n",
            "\u001b[32;1m\u001b[1;3mThought: To provide a recommendation on whether to invest in AAPL, I need to analyze the current stock trend of AAPL.\n",
            "\n",
            "Action: Investment Advice Generator\n",
            "Action Input: AAPL\u001b[0m\u001b[33;1m\u001b[1;3mHold, as the stock shows a positive short-term trend but requires more data for a clear decision.\u001b[0m\u001b[32;1m\u001b[1;3mI now know the final answer based on the current trend analysis.\n",
            "Final Answer: Hold, as the stock shows a positive short-term trend but requires more data for a clear decision.\u001b[0m\n",
            "\n",
            "\u001b[1m> Finished chain.\u001b[0m\n",
            "📢 Response for 'Should I invest in AAPL?': Hold, as the stock shows a positive short-term trend but requires more data for a clear decision.\n",
            "\n",
            "--- Processing Query: What is the square root of 16? ---\n",
            "\n",
            "\n",
            "\u001b[1m> Entering new AgentExecutor chain...\u001b[0m\n",
            "\u001b[32;1m\u001b[1;3mThought: The question is about a simple mathematical calculation and not related to AAPL stock trends or investment advice.\n",
            "\n",
            "Final Answer: The square root of 16 is 4.\u001b[0m\n",
            "\n",
            "\u001b[1m> Finished chain.\u001b[0m\n",
            "📢 Response for 'What is the square root of 16?': The square root of 16 is 4.\n",
            "\n"
          ]
        }
      ]
    },
    {
      "cell_type": "markdown",
      "source": [
        "> ### 🟦 SELF-STUDY ACTIVITY\n",
        ">\n",
        "> #### 📈 Chaining Analytics and Graphing Agents\n",
        ">\n",
        "> This activity is for self-study. It demonstrates how to **combine two AI agents** in sequence:\n",
        ">\n",
        "> 1. **🔍 Analytics Agent** (MarketMaster): Answers questions using tools like moving averages and investment advice.\n",
        "> 2. **📊 Graphing Agent**: Generates a 10-day AAPL stock trend chart using `matplotlib`.\n",
        ">\n",
        "> ---\n",
        ">\n",
        "> #### 🛠️ How It Works\n",
        ">\n",
        "> - The `analytics_agent` is reused from your existing MarketMaster.\n",
        "> - A `graph_tool` is defined to create and save a plot of AAPL’s last 10 days.\n",
        "> - The `graphing_agent` is initialized with this tool and chained after the analytics run.\n",
        ">\n",
        "> ---\n",
        ">\n",
        "> #### ✅ Example Flow\n",
        ">\n",
        "> ```python\n",
        "> analytics_response = analytics_agent.invoke({\"input\": \"Provide the latest stock data for AAPL.\"})\n",
        "> graph_response = graphing_agent.invoke({\"input\": \"Generate a graph for AAPL stock trend.\"})\n",
        "> ```\n",
        ">\n",
        "> _This part is for self-study and hands-on exploration._\n"
      ],
      "metadata": {
        "id": "Jah4R3AugF7q"
      },
      "id": "Jah4R3AugF7q"
    },
    {
      "cell_type": "code",
      "source": [
        "# ================================\n",
        "# 📈 Chaining Analytics and Graphing Agents\n",
        "# ================================\n",
        "# ✅ This cell demonstrates chaining two agents: one for analytics and another for graphing.\n",
        "\n",
        "import matplotlib.pyplot as plt  # For graphing stock price trends\n",
        "from langchain.tools import Tool\n",
        "from langchain_openai import ChatOpenAI\n",
        "from langchain.agents import initialize_agent, AgentType\n",
        "\n",
        "# ================================\n",
        "# ✅ Step 1: Define the Graphing Tool\n",
        "# ================================\n",
        "def generate_stock_graph(query: str) -> str:\n",
        "    \"\"\"\n",
        "    Generates a stock price trend graph for AAPL over the last 10 days.\n",
        "    \"\"\"\n",
        "    # Extract the last 10 days of data\n",
        "    recent_data = stock_data.tail(10)\n",
        "    dates = recent_data['Date']\n",
        "    close_prices = recent_data['Close/Last']\n",
        "\n",
        "    # Create the graph\n",
        "    plt.figure(figsize=(10, 6))\n",
        "    plt.plot(dates, close_prices, marker='o', linestyle='-', color='blue')\n",
        "    plt.title(\"AAPL Stock Price Trend (Last 10 Days)\", fontsize=14)\n",
        "    plt.xlabel(\"Date\", fontsize=12)\n",
        "    plt.ylabel(\"Close Price ($)\", fontsize=12)\n",
        "    plt.xticks(rotation=45, fontsize=10)\n",
        "    plt.grid(True)\n",
        "    plt.tight_layout()\n",
        "    plt.savefig(\"aapl_stock_trend.png\")  # Save the graph as an image\n",
        "    plt.close()\n",
        "\n",
        "    return \"📊 Stock trend graph generated successfully: 'aapl_stock_trend.png'\"\n",
        "\n",
        "# 🔹 Register the graphing tool\n",
        "graph_tool = Tool(\n",
        "    name=\"Graph Generator\",\n",
        "    func=generate_stock_graph,\n",
        "    description=\"Generates a graph of AAPL's stock price trend over the last 10 days.\"\n",
        ")\n",
        "\n",
        "# ================================\n",
        "# ✅ Step 2: Chain the Agents\n",
        "# ================================\n",
        "\n",
        "# 🔹 Analytics Agent (from previous step)\n",
        "# Correct the variable name from 'stock_agent' to 'marketmaster_agent'\n",
        "analytics_agent = marketmaster_agent  # This uses the existing analytics agent\n",
        "\n",
        "# 🔹 Graphing Agent\n",
        "llm_graph = ChatOpenAI(model_name=\"gpt-4-turbo\", temperature=0.0)\n",
        "graphing_agent = initialize_agent(\n",
        "    tools=[graph_tool],  # The graphing tool generates the stock graph\n",
        "    llm=llm_graph,\n",
        "    agent=AgentType.ZERO_SHOT_REACT_DESCRIPTION,\n",
        "    verbose=True\n",
        ")\n",
        "\n",
        "# 🔹 Chain Execution: Run analytics first, then graphing\n",
        "query = \"Provide the latest stock data for AAPL.\"\n",
        "\n",
        "# Step 1: Run the analytics agent\n",
        "# Use invoke() instead of run() and access the output key 'output'\n",
        "analytics_response = analytics_agent.invoke({\"input\": query})\n",
        "print(\"📈 Analytics Agent Response:\\n\", analytics_response['output'])\n",
        "\n",
        "# Step 2: Run the graphing agent\n",
        "# Use invoke() instead of run() and access the output key 'output'\n",
        "graph_response = graphing_agent.invoke({\"input\": \"Generate a graph for AAPL stock trend.\"})\n",
        "print(\"\\n📊 Graphing Agent Response:\\n\", graph_response['output'])"
      ],
      "metadata": {
        "id": "ZxaXayThu8L8",
        "colab": {
          "base_uri": "https://localhost:8080/",
          "height": 0
        },
        "outputId": "8347772a-5b25-4384-c1e8-62474c898556"
      },
      "id": "ZxaXayThu8L8",
      "execution_count": 20,
      "outputs": [
        {
          "output_type": "stream",
          "name": "stdout",
          "text": [
            "\n",
            "\n",
            "\u001b[1m> Entering new AgentExecutor chain...\u001b[0m\n",
            "\u001b[32;1m\u001b[1;3mThought: I need to clarify what specific stock data is needed, as I can calculate moving averages or provide investment advice but do not have access to the latest raw stock data directly.\n",
            "\n",
            "Final Answer: I can calculate moving averages or provide investment advice for AAPL stock. Please specify if you would like a moving average for a certain number of days or investment advice based on the latest trends.\u001b[0m\n",
            "\n",
            "\u001b[1m> Finished chain.\u001b[0m\n",
            "📈 Analytics Agent Response:\n",
            " I can calculate moving averages or provide investment advice for AAPL stock. Please specify if you would like a moving average for a certain number of days or investment advice based on the latest trends.\n",
            "\n",
            "\n",
            "\u001b[1m> Entering new AgentExecutor chain...\u001b[0m\n",
            "\u001b[32;1m\u001b[1;3mTo answer the question, I need to generate a graph showing the trend of AAPL's stock price over the last 10 days.\n",
            "Action: Graph Generator\n",
            "Action Input: AAPL stock price trend over the last 10 days\u001b[0m\n",
            "Observation: \u001b[36;1m\u001b[1;3m📊 Stock trend graph generated successfully: 'aapl_stock_trend.png'\u001b[0m\n",
            "Thought:\u001b[32;1m\u001b[1;3mI now know the final answer.\n",
            "Final Answer: The graph for AAPL stock trend over the last 10 days has been successfully generated and is available in the file 'aapl_stock_trend.png'.\u001b[0m\n",
            "\n",
            "\u001b[1m> Finished chain.\u001b[0m\n",
            "\n",
            "📊 Graphing Agent Response:\n",
            " The graph for AAPL stock trend over the last 10 days has been successfully generated and is available in the file 'aapl_stock_trend.png'.\n"
          ]
        }
      ]
    },
    {
      "cell_type": "code",
      "source": [
        "from IPython.display import Image, display\n",
        "display(Image(\"aapl_stock_trend.png\"))"
      ],
      "metadata": {
        "colab": {
          "base_uri": "https://localhost:8080/",
          "height": 617
        },
        "id": "hp0_l-47AfYI",
        "outputId": "0b91ca01-9d1a-4c7d-96bf-20cb3cfc9b35"
      },
      "id": "hp0_l-47AfYI",
      "execution_count": 21,
      "outputs": [
        {
          "output_type": "display_data",
          "data": {
            "image/png": "[encoded data removed]",
            "text/plain": [
              "<IPython.core.display.Image object>"
            ]
          },
          "metadata": {}
        }
      ]
    },
    {
      "cell_type": "markdown",
      "source": [],
      "metadata": {
        "id": "GGNagCch-bvZ"
      },
      "id": "GGNagCch-bvZ"
    },
    {
      "cell_type": "markdown",
      "source": [
        "<hr>\n",
        "\n",
        "<h2 style=\"color:#2e7d32;\">🎉 Congratulations! You’ve Completed the Lab</h2>\n",
        "\n",
        "<p>\n",
        "In this lab, you successfully learned how to:\n",
        "</p>\n",
        "\n",
        "<ul>\n",
        "  <li>✅ Chain multiple agents together in LangChain</li>\n",
        "  <li>✅ Use <strong>pipe operators</strong> and structured workflows to pass information across tools</li>\n",
        "  <li>✅ Develop intelligent agents and <strong>equip them with tools</strong> for analytics, reasoning, and graphing</li>\n",
        "</ul>\n",
        "\n",
        "<p>\n",
        "By combining <code>ReAct-style agents</code> with real-world tools like Pandas and Matplotlib, you've built a powerful foundation for building AI assistants that can reason and act.\n",
        "</p>\n",
        "\n",
        "<p style=\"color:#1565c0;\"><strong>Enjoy your learning journey!</strong> Keep exploring, building, and pushing the boundaries of what agents can do.</p>\n"
      ],
      "metadata": {
        "id": "L-RXFahMgXw8"
      },
      "id": "L-RXFahMgXw8"
    },
    {
      "cell_type": "code",
      "source": [],
      "metadata": {
        "id": "8hDBK3uxgYC-"
      },
      "id": "8hDBK3uxgYC-",
      "execution_count": null,
      "outputs": []
    }
  ],
  "metadata": {
    "colab": {
      "provenance": [],
      "include_colab_link": true
    },
    "language_info": {
      "name": "python"
    },
    "kernelspec": {
      "name": "python3",
      "display_name": "Python 3"
    }
  },
  "nbformat": 4,
  "nbformat_minor": 5
}